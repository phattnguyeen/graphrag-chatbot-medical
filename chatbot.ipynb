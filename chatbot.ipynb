{
 "cells": [
  {
   "cell_type": "code",
   "execution_count": null,
   "id": "4e0efc61",
   "metadata": {},
   "outputs": [],
   "source": [
    "%pip install langchain==0.1.0 openai==1.7.2 langchain-openai==0.3.8 langchain-community==0.0.12 langchainhub==0.1.14"
   ]
  },
  {
   "cell_type": "code",
   "execution_count": null,
   "id": "23e6d7ae",
   "metadata": {},
   "outputs": [],
   "source": [
    "%pip install python-dotenv\n"
   ]
  },
  {
   "cell_type": "code",
   "execution_count": null,
   "id": "d9d0de65",
   "metadata": {},
   "outputs": [],
   "source": [
    "from dotenv import load_dotenv\n",
    "import os"
   ]
  },
  {
   "cell_type": "code",
   "execution_count": null,
   "id": "77eef046",
   "metadata": {},
   "outputs": [],
   "source": [
    "%load_ext dotenv\n",
    "%dotenv"
   ]
  },
  {
   "cell_type": "code",
   "execution_count": null,
   "id": "7f868e6f",
   "metadata": {},
   "outputs": [],
   "source": [
    "from langchain_community.llms import Ollama\n",
    "\n",
    "llm = Ollama(model=\"phi\")\n",
    "llm.invoke(\"Tell me a joke\")"
   ]
  },
  {
   "cell_type": "code",
   "execution_count": null,
   "id": "65adc518",
   "metadata": {},
   "outputs": [],
   "source": [
    "from langchain_community.llms import Ollama\n",
    "from langchain_core.messages import HumanMessage, SystemMessage\n",
    "\n",
    "llm = Ollama(model=\"phi\")\n",
    "\n",
    "messages = [\n",
    "    SystemMessage(content=\"You are an AI assistant that tells jokes.\"),\n",
    "    HumanMessage(content=\"Tell me a joke.\")\n",
    "]\n",
    "\n",
    "response = llm.invoke(messages)\n",
    "print(response) \n"
   ]
  },
  {
   "cell_type": "code",
   "execution_count": null,
   "id": "4cea9430",
   "metadata": {},
   "outputs": [],
   "source": [
    "from langchain_core.prompts import PromptTemplate"
   ]
  },
  {
   "cell_type": "code",
   "execution_count": null,
   "id": "3a813a3f",
   "metadata": {},
   "outputs": [],
   "source": [
    "prompt_template = PromptTemplate.from_template(\n",
    "    \"Tell me historical fact about the {event} in {location}.\",\n",
    ")"
   ]
  },
  {
   "cell_type": "code",
   "execution_count": null,
   "id": "bfd951c2",
   "metadata": {},
   "outputs": [],
   "source": [
    "prompt_template.format(event=\"World War II\", location=\"Europe\")"
   ]
  },
  {
   "cell_type": "code",
   "execution_count": null,
   "id": "1e0919a4",
   "metadata": {},
   "outputs": [],
   "source": [
    "import os\n",
    "from langchain_community.llms import Ollama\n",
    "from langchain_community.embeddings import HuggingFaceEmbeddings\n",
    "from langchain.vectorstores.neo4j_vector import Neo4jVector\n",
    "from langchain.chains import RetrievalQA\n",
    "from langchain.prompts import (\n",
    "    PromptTemplate,\n",
    "    HumanMessagePromptTemplate,\n",
    "    SystemMessagePromptTemplate,\n",
    "    ChatPromptTemplate\n",
    ")"
   ]
  },
  {
   "cell_type": "code",
   "execution_count": null,
   "id": "be452021",
   "metadata": {},
   "outputs": [],
   "source": [
    "%pip install neo4j"
   ]
  },
  {
   "cell_type": "code",
   "execution_count": null,
   "id": "0e188a7f",
   "metadata": {},
   "outputs": [],
   "source": [
    "from langchain_community.embeddings import HuggingFaceEmbeddings\n",
    "from langchain.vectorstores.neo4j_vector import Neo4jVector\n",
    "import os\n",
    "\n",
    "# 1. Khởi tạo HuggingFace Embedding model\n",
    "embedding_model = HuggingFaceEmbeddings(\n",
    "    model_name=\"sentence-transformers/all-MiniLM-L6-v2\"\n",
    ")\n",
    "\n",
    "# 2. Kết nối Neo4j và build vectorstore\n",
    "vectorstore = Neo4jVector.from_existing_graph(\n",
    "    embedding=embedding_model,\n",
    "    url=os.getenv(\"NEO4J_URL\"),\n",
    "    username=os.getenv(\"NEO4J_USERNAME\"),\n",
    "    password=os.getenv(\"NEO4J_PASSWORD\"),\n",
    "    index_name=\"medical_full_index\",  # 1 index chung\n",
    "    node_label=\"Disease|Symptom|Treatment|Prevention|DiagnoseMethod|Cause\",\n",
    "    text_node_properties=[\"name\", \"overview\"],\n",
    "    embedding_node_property=\"embedding\"\n",
    ")\n",
    "\n"
   ]
  },
  {
   "cell_type": "code",
   "execution_count": null,
   "id": "1ff79a3a",
   "metadata": {},
   "outputs": [],
   "source": [
    "from langchain_community.embeddings import HuggingFaceEmbeddings\n",
    "from langchain_community.vectorstores.neo4j_vector import Neo4jVector\n",
    "import os\n",
    "\n",
    "# 1. Khởi tạo model embedding\n",
    "embedding_model = HuggingFaceEmbeddings(\n",
    "    model_name=\"sentence-transformers/all-MiniLM-L6-v2\"\n",
    ")\n",
    "\n",
    "# 2. Thông tin kết nối Neo4j\n",
    "neo4j_config = {\n",
    "    \"url\": os.getenv(\"NEO4J_URL\"),\n",
    "    \"username\": os.getenv(\"NEO4J_USERNAME\"),\n",
    "    \"password\": os.getenv(\"NEO4J_PASSWORD\")  # <-- chỉnh lại nếu cần\n",
    "}\n",
    "\n",
    "# 3. Các loại node cần tạo riêng\n",
    "node_types = [\"Disease\", \"Symptom\", \"Treatment\", \"Prevention\", \"DiagnoseMethod\", \"Cause\"]\n",
    "\n",
    "# 4. Duyệt từng loại node và tạo vectorstore riêng biệt\n",
    "vectorstores = {}\n",
    "for node_label in node_types:\n",
    "    index_name = f\"index_{node_label.lower()}\"\n",
    "    properties = [\"name\", \"overview\"] if node_label == \"Disease\" else [\"name\"]\n",
    "\n",
    "    print(f\"👉 Đang tạo vectorstore cho {node_label}...\")\n",
    "\n",
    "    vectorstores[node_label] = Neo4jVector.from_existing_graph(\n",
    "        embedding=embedding_model,\n",
    "        index_name=index_name,\n",
    "        node_label=node_label,\n",
    "        text_node_properties=properties,\n",
    "        embedding_node_property=\"embedding\",\n",
    "        **neo4j_config\n",
    "    )\n",
    "\n",
    "print(\"✅ Đã tạo vectorstore cho tất cả các node!\")\n"
   ]
  },
  {
   "cell_type": "code",
   "execution_count": null,
   "id": "3a05c687",
   "metadata": {},
   "outputs": [],
   "source": [
    "from neo4j import GraphDatabase\n",
    "import os\n",
    "\n",
    "# Kết nối\n",
    "driver = GraphDatabase.driver(\n",
    "    os.getenv(\"NEO4J_URL\"), \n",
    "    auth=(os.getenv(\"NEO4J_USERNAME\"), os.getenv(\"NEO4J_PASSWORD\"))\n",
    ")\n",
    "\n",
    "def drop_all_vector_indexes():\n",
    "    with driver.session() as session:\n",
    "        indexes = session.run(\"\"\"\n",
    "        SHOW INDEXES YIELD name, type\n",
    "        WHERE type = \"VECTOR\"\n",
    "        RETURN name\n",
    "        \"\"\")\n",
    "        for record in indexes:\n",
    "            index_name = record[\"name\"]\n",
    "            print(f\"Dropping index {index_name}...\")\n",
    "            session.run(f\"DROP INDEX {index_name} IF EXISTS\")\n",
    "\n",
    "drop_all_vector_indexes()\n",
    "print(\"✅ Đã drop toàn bộ vector index!\")\n"
   ]
  },
  {
   "cell_type": "markdown",
   "id": "1823c10a",
   "metadata": {},
   "source": [
    "### Vector Embedding"
   ]
  },
  {
   "cell_type": "code",
   "execution_count": null,
   "id": "012422dc",
   "metadata": {},
   "outputs": [
    {
     "name": "stdout",
     "output_type": "stream",
     "text": [
      "🧩 [DiagnoseMethod] Xét nghiệm hormone sinh dục. | Score: 0.9072\n",
      "🧩 [DiagnoseMethod] Để chẩn đoán bệnh, trước hết có thể thông qua kết quả khám lâm sàng các vết loét, khám hạch bẹn sưng và loại trừ các bệnh lây truyền qua đường tình dục khác. | Score: 0.8994\n",
      "🧩 [DiagnoseMethod] Dựa vào dấu hiệu lâm sàng của bệnh:  Bệnh nhân chỉ cần có Một yếu tố chính về tình dục và Hai triệu chứng toàn thân (Một chính, Hai phụ) đã nêu trong phần triệu chứng thì được chẩn đoán là mãn dục ở nam giới. | Score: 0.8969\n"
     ]
    }
   ],
   "source": [
    "from neo4j_vector import Neo4jVectorManager\n",
    "\n",
    "# Config kết nối Neo4j\n",
    "neo4j_config = {\n",
    "    \"url\": \"bolt://localhost:7687\",\n",
    "    \"username\": \"neo4j\",\n",
    "    \"password\": \"12345678\"\n",
    "}\n",
    "\n",
    "labels = [\"Disease\", \"Cause\", \"Symptom\", \"Treatment\", \"Prevention\", \"DiagnoseMethod\"]\n",
    "\n",
    "# 1. Khởi tạo\n",
    "manager = Neo4jVectorManager(neo4j_config)\n",
    "\n",
    "# 2. Tạo embeddings + indexes (chỉ cần chạy 1 lần)\n",
    "manager.process_all_labels(labels)\n",
    "\n",
    "\n",
    "\n",
    "# 4. Đóng kết nối\n",
    "manager.close()\n"
   ]
  },
  {
   "cell_type": "markdown",
   "id": "47a0f088",
   "metadata": {},
   "source": [
    "## Find k result"
   ]
  },
  {
   "cell_type": "code",
   "execution_count": 4,
   "id": "b981bc0f",
   "metadata": {},
   "outputs": [
    {
     "name": "stdout",
     "output_type": "stream",
     "text": [
      "[Disease] Ấu dâm là gì?\n",
      "Ấu dâm là một chứng rối loạn tình dục gồm những ham muốn tình dục mạnh mẽ, liên tục mà đối tượng muốn quan hệ là trẻ em chưa hoặc mới dậy thì.\n",
      "Các hành vi ấu dâm bao gồm: nhìn, vuốt ve, thủ dâm và ép quan hệ tình dục với trẻ em. Có một số trường hợp đồng tính nam thích quan hệ với các cậu bé, hầu hết người có xu hướng ấu dâm là nam giới, nhưng cũng có những trường hợp người bệnh là nữ giới.\n",
      "Dưới ảnh hưởng của giới truyền thông, ấu dâm được hiểu là các hành động lạm dụng tình dục với trẻ em. Tuy nhiên, định nghĩa này đã phản ánh sai tình hình chung của những người mắc bệnh ấu dâm, làm cho căn bệnh này càng khó nghiên cứu và thu thập số liệu.\n",
      "Ấu dâm là như thế nào?\n",
      "Cần khẳng định rằng ấu dâm là bệnh, không phải là tội. Không phải bất kỳ ai mắc bệnh ấu dâm cũng có hành vi tình dục với trẻ em, cũng như những người có hành vi tình dục với trẻ em cũng không chắc chắn là có bệnh ấu dâm. (Score: 0.9137)\n"
     ]
    }
   ],
   "source": [
    "from neo4j_vector import Neo4jVectorManager\n",
    "\n",
    "# Config kết nối Neo4j\n",
    "neo4j_config = {\n",
    "    \"url\": \"bolt://localhost:7687\",\n",
    "    \"username\": \"neo4j\",\n",
    "    \"password\": \"12345678\"\n",
    "}\n",
    "\n",
    "\n",
    "\n",
    "# 1. Khởi tạo\n",
    "manager = Neo4jVectorManager(neo4j_config)\n",
    "\n",
    "\n",
    "# 3. Tìm kiếm semantic similarity\n",
    "results = manager.similarity_search_git(\"Disease\", \"Ấu dâm là gì ?\", top_k=1)\n",
    "\n",
    "for label, text, score in results:\n",
    "    print(f\"[{label}] {text} (Score: {score:.4f})\")\n",
    "\n",
    "\n",
    "# 4. Đóng kết nối\n",
    "manager.close()\n"
   ]
  },
  {
   "cell_type": "code",
   "execution_count": 4,
   "id": "af0fe2b1",
   "metadata": {},
   "outputs": [
    {
     "name": "stdout",
     "output_type": "stream",
     "text": [
      "🔎 Label phát hiện: Cause\n",
      "[Cause] Các yếu tố được nghiên cứu và giả thuyết đưa ra nguyên nhân gây bệnh ấu dâm như: Chỉ số IQ và trí nhớ kém; Ít chất trắng trong não bộ; Ít hormone testosterone; Các vấn đề trong não bộ. (Score: 0.8453)\n",
      "[Cause] Hiện nay các nhà khoa học vẫn chưa biết chính xác nguyên nhân gây ra ấu dâm là gì. Do tính cách và hoàn cảnh mỗi người đều khác nhau nên rất khó để có thể nghiên cứu nguyên nhân từ khía cạnh tâm lý. (Score: 0.8438)\n",
      "[Cause] Có một số chuyên gia cho rằng tình trạng này có liên quan đến các nhân tố tâm lý xã hội chứ không phải các nhân tố sinh học, lại có một số bác sĩ cho rằng nhân tố tính cách có ảnh hưởng đến bệnh nhân như: các vấn đề về sự gắn bó hoặc phụ thuộc vào gia cảnh bất thường, bị quấy rối khi còn nhỏ cũng có thể là một trong những nguyên nhân gây ra ấu dâm. (Score: 0.8305)\n",
      "[Cause] Rối loạn tình dục. (Score: 0.8203)\n",
      "[Cause] Các bệnh lây truyền qua đường tình dục; (Score: 0.8069)\n"
     ]
    }
   ],
   "source": [
    "from neo4j_vector import Neo4jVectorManager\n",
    "\n",
    "# Config kết nối Neo4j\n",
    "neo4j_config = {\n",
    "    \"url\": \"bolt://localhost:7687\",\n",
    "    \"username\": \"neo4j\",\n",
    "    \"password\": \"12345678\"\n",
    "}\n",
    "\n",
    "# 1. Khởi tạo\n",
    "manager = Neo4jVectorManager(neo4j_config)\n",
    "\n",
    "query = \"Nguyên nhân ấu dâm ?\"\n",
    "\n",
    "label = manager.detect_label_from_query_git(query)\n",
    "print(f\"🔎 Label phát hiện: {label}\")\n",
    "\n",
    "results = manager.similarity_search_git(label=label, query_text=query)\n",
    "\n",
    "for lbl, text, score in results:\n",
    "    print(f\"[{lbl}] {text} (Score: {score:.4f})\")\n",
    "\n",
    "manager.close()\n"
   ]
  },
  {
   "cell_type": "code",
   "execution_count": null,
   "id": "3a901d1d",
   "metadata": {},
   "outputs": [
    {
     "name": "stderr",
     "output_type": "stream",
     "text": [
      "e:\\Master\\Data & Structure\\Paper_KG\\Doan\\graphrag-chatbot-medical\\.venv\\lib\\site-packages\\tqdm\\auto.py:21: TqdmWarning: IProgress not found. Please update jupyter and ipywidgets. See https://ipywidgets.readthedocs.io/en/stable/user_install.html\n",
      "  from .autonotebook import tqdm as notebook_tqdm\n"
     ]
    },
    {
     "name": "stdout",
     "output_type": "stream",
     "text": [
      "Running on local URL:  http://127.0.0.1:7860\n",
      "\n",
      "To create a public link, set `share=True` in `launch()`.\n"
     ]
    },
    {
     "data": {
      "text/html": [
       "<div><iframe src=\"http://127.0.0.1:7860/\" width=\"100%\" height=\"500\" allow=\"autoplay; camera; microphone; clipboard-read; clipboard-write;\" frameborder=\"0\" allowfullscreen></iframe></div>"
      ],
      "text/plain": [
       "<IPython.core.display.HTML object>"
      ]
     },
     "metadata": {},
     "output_type": "display_data"
    },
    {
     "data": {
      "text/plain": []
     },
     "execution_count": 1,
     "metadata": {},
     "output_type": "execute_result"
    },
    {
     "name": "stdout",
     "output_type": "stream",
     "text": [
      "IMPORTANT: You are using gradio version 3.41.2, however version 4.44.1 is available, please upgrade.\n",
      "--------\n"
     ]
    }
   ],
   "source": [
    "import gradio as gr\n",
    "from neo4j_vector import Neo4jVectorManager\n",
    "\n",
    "\n",
    "# Cấu hình kết nối\n",
    "neo4j_config = {\n",
    "    \"url\": \"bolt://localhost:7687\",\n",
    "    \"username\": \"neo4j\",\n",
    "    \"password\": \"12345678\"\n",
    "}\n",
    "\n",
    "def search_similar_nodes(query):\n",
    "    manager = Neo4jVectorManager(neo4j_config)\n",
    "    try:\n",
    "        label = manager.detect_label_from_query_git(query)\n",
    "        results = manager.similarity_search_git(label=label, query_text=query)\n",
    "\n",
    "        output_lines = [f\"🔎 Đã phát hiện label: {label}\\n\"]\n",
    "        for lbl, text, score in results:\n",
    "            output_lines.append(f\"🧩 {text}\")\n",
    "        return \"\\n\\n\".join(output_lines)\n",
    "    except Exception as e:\n",
    "        return f\"❌ Lỗi: {str(e)}\"\n",
    "    finally:\n",
    "        manager.close()\n",
    "\n",
    "# Giao diện Gradio\n",
    "demo = gr.Interface(\n",
    "    fn=search_similar_nodes,\n",
    "    inputs=gr.Textbox(lines=2, placeholder=\"Nhập câu hỏi như: 'AIDS là gì?'\"),\n",
    "    outputs=gr.Textbox(label=\"Kết quả tương tự\"),\n",
    "    title=\"🧠 Semantic Search (Neo4j + SimCSE)\",\n",
    "    description=\"Tìm kiếm các node y học tương tự trong đồ thị Neo4j theo vector embedding (PhoBERT + cosine).\"\n",
    ")\n",
    "\n",
    "demo.launch(share=False)\n"
   ]
  },
  {
   "cell_type": "code",
   "execution_count": 5,
   "id": "3d329ec1",
   "metadata": {},
   "outputs": [
    {
     "name": "stdout",
     "output_type": "stream",
     "text": [
      "Running on local URL:  http://127.0.0.1:7861\n",
      "\n",
      "To create a public link, set `share=True` in `launch()`.\n"
     ]
    },
    {
     "data": {
      "text/html": [
       "<div><iframe src=\"http://127.0.0.1:7861/\" width=\"100%\" height=\"500\" allow=\"autoplay; camera; microphone; clipboard-read; clipboard-write;\" frameborder=\"0\" allowfullscreen></iframe></div>"
      ],
      "text/plain": [
       "<IPython.core.display.HTML object>"
      ]
     },
     "metadata": {},
     "output_type": "display_data"
    },
    {
     "data": {
      "text/plain": []
     },
     "execution_count": 5,
     "metadata": {},
     "output_type": "execute_result"
    },
    {
     "name": "stdout",
     "output_type": "stream",
     "text": [
      "IMPORTANT: You are using gradio version 3.41.2, however version 4.44.1 is available, please upgrade.\n",
      "--------\n"
     ]
    },
    {
     "name": "stderr",
     "output_type": "stream",
     "text": [
      "e:\\Master\\Data & Structure\\Paper_KG\\Doan\\graphrag-chatbot-medical\\.venv\\lib\\site-packages\\langchain_core\\_api\\deprecation.py:117: LangChainDeprecationWarning: The function `run` was deprecated in LangChain 0.1.0 and will be removed in 0.2.0. Use invoke instead.\n",
      "  warn_deprecated(\n"
     ]
    }
   ],
   "source": [
    "import gradio as gr\n",
    "from neo4j_vector import Neo4jVectorManager\n",
    "from langchain_community.llms import Ollama\n",
    "from langchain.chains import LLMChain\n",
    "from langchain.prompts import PromptTemplate\n",
    "\n",
    "# Cấu hình kết nối Neo4j\n",
    "neo4j_config = {\n",
    "    \"url\": \"bolt://localhost:7687\",\n",
    "    \"username\": \"neo4j\",\n",
    "    \"password\": \"12345678\"\n",
    "}\n",
    "\n",
    "# Prompt tóm tắt kết quả bằng LLM\n",
    "template = \"\"\"\n",
    "Bạn là một trợ lý y tế thông minh. Dưới đây là các đoạn thông tin gần giống với câu hỏi:\n",
    "\n",
    "Câu hỏi: {question}\n",
    "\n",
    "Các đoạn liên quan:\n",
    "{contexts}\n",
    "\n",
    "Hãy tóm tắt lại một câu trả lời ngắn gọn, đúng chuyên môn.\n",
    "\"\"\"\n",
    "\n",
    "prompt = PromptTemplate.from_template(template)\n",
    "llm = Ollama(model=\"phi\")  # Bạn có thể đổi thành \"gemma\", \"mistral\", hoặc OpenAI\n",
    "llm_chain = LLMChain(llm=llm, prompt=prompt)\n",
    "\n",
    "# Hàm xử lý tìm kiếm + tóm tắt\n",
    "def search_and_summarize(query):\n",
    "    manager = Neo4jVectorManager(neo4j_config)\n",
    "    try:\n",
    "        label = manager.detect_label_from_query_git(query)\n",
    "        results = manager.similarity_search_git(label=label, query_text=query, top_k=5)\n",
    "\n",
    "        if not results:\n",
    "            return f\"Không tìm thấy kết quả cho label {label}.\"\n",
    "\n",
    "        # Format cho hiển thị\n",
    "        display_output = f\"🔎 Đã phát hiện label: {label}\\n\\n\"\n",
    "        for i, (_, name, _) in enumerate(results, 1):\n",
    "            display_output += f\"🧩 {i}. {name}\\n\"\n",
    "\n",
    "        # Tóm tắt bằng LLM\n",
    "        contexts = \"\\n\".join(f\"- {name}\" for _, name, _ in results)\n",
    "        answer = llm_chain.run({\"question\": query, \"contexts\": contexts})\n",
    "\n",
    "        return f\"{display_output}\\n\\n🧠 **Câu trả lời bởi LLM:**\\n{answer}\"\n",
    "\n",
    "    except Exception as e:\n",
    "        return f\"❌ Lỗi: {str(e)}\"\n",
    "    finally:\n",
    "        manager.close()\n",
    "\n",
    "# Giao diện Gradio\n",
    "demo = gr.Interface(\n",
    "    fn=search_and_summarize,\n",
    "    inputs=gr.Textbox(lines=2, placeholder=\"Nhập câu hỏi như: 'Nguyên nhân bệnh tiểu đường?'\"),\n",
    "    outputs=gr.Textbox(label=\"Kết quả + Trả lời bởi LLM\", lines=10),\n",
    "    title=\"🧠 Semantic QA (Neo4j + SimCSE + LLM)\",\n",
    "    description=\"Tìm kiếm tri thức y học từ Neo4j và trả lời tự nhiên bằng LLM (phi/mistral/gemma).\"\n",
    ")\n",
    "\n",
    "demo.launch(share=False)\n"
   ]
  },
  {
   "cell_type": "code",
   "execution_count": null,
   "id": "3976cc52",
   "metadata": {},
   "outputs": [],
   "source": [
    "from langchain.chains import RetrievalQA\n",
    "\n",
    "\n",
    "\n",
    "# Gộp nhiều retrievers\n",
    "retrievers = [\n",
    "    store.as_retriever(search_kwargs={\"k\": 10}) for store in vectorstores.values()\n",
    "]\n",
    "\n",
    "# Gộp thành 1 retriever duy nhất\n",
    "from langchain.retrievers import EnsembleRetriever\n",
    "\n",
    "ensemble_retriever = EnsembleRetriever(\n",
    "    retrievers=retrievers,\n",
    "    weights=[1] * len(retrievers)  # mỗi vectorstore trọng số bằng nhau\n",
    ")\n",
    "\n",
    "# Tạo chain RAG\n",
    "qa_chain = RetrievalQA.from_chain_type(\n",
    "    llm = Ollama(model=\"phi\"),  # hoặc Huggingface\n",
    "    retriever=ensemble_retriever,\n",
    "    chain_type=\"stuff\"\n",
    ")\n"
   ]
  },
  {
   "cell_type": "code",
   "execution_count": null,
   "id": "004c3dd3",
   "metadata": {},
   "outputs": [],
   "source": [
    "from langchain.chains import RetrievalQA\n",
    "from langchain.retrievers import EnsembleRetriever\n",
    "from langchain.llms import Ollama\n",
    "\n",
    "# Tạo retrievers với search_kwargs riêng\n",
    "retrievers = [\n",
    "    vectorstores[\"Disease\"].as_retriever(search_kwargs={\"k\": 3}),\n",
    "    vectorstores[\"Cause\"].as_retriever(search_kwargs={\"k\": 3}),\n",
    "    vectorstores[\"Symptom\"].as_retriever(search_kwargs={\"k\": 2}),\n",
    "    vectorstores[\"Treatment\"].as_retriever(search_kwargs={\"k\": 2}),\n",
    "    vectorstores[\"Prevention\"].as_retriever(search_kwargs={\"k\": 1}),\n",
    "    vectorstores[\"DiagnoseMethod\"].as_retriever(search_kwargs={\"k\": 1}),\n",
    "]\n",
    "\n",
    "# Trọng số ưu tiên (Disease & Cause nặng hơn)\n",
    "weights = [3, 3, 2, 2, 1, 1]\n",
    "\n",
    "# Gộp retrievers\n",
    "ensemble_retriever = EnsembleRetriever(\n",
    "    retrievers=retrievers,\n",
    "    weights=weights\n",
    ")\n",
    "\n",
    "# Tạo QA Chain\n",
    "qa_chain = RetrievalQA.from_chain_type(\n",
    "    llm=Ollama(model=\"phi\"),\n",
    "    retriever=ensemble_retriever,\n",
    "    chain_type=\"stuff\"  # Có thể thay bằng map_reduce, refine nếu cần\n",
    ")\n"
   ]
  },
  {
   "cell_type": "code",
   "execution_count": null,
   "id": "ea999474",
   "metadata": {},
   "outputs": [],
   "source": [
    "from langchain_community.embeddings import HuggingFaceEmbeddings\n",
    "\n",
    "embeddings = HuggingFaceEmbeddings(\n",
    "    model_name=\"dangvantuan/vietnamese-embedding\" # hoặc \"cpu\"\n",
    ")\n",
    "\n",
    "vector = embeddings.embed_query(\"Test embedding\")\n",
    "print(vector[:10])  # In thử 10 phần tử đầu\n"
   ]
  },
  {
   "cell_type": "code",
   "execution_count": null,
   "id": "168049bd",
   "metadata": {},
   "outputs": [],
   "source": [
    "from langchain_community.vectorstores import Neo4jVector\n",
    "\n",
    "vector_index = Neo4jVector.from_existing_graph(\n",
    "    embedding=embeddings,\n",
    "    search_type=\"hybrid\",  # or \"similarity\"\n",
    "    node_label=\"Disease\",  # 👈 lấy tất cả\n",
    "    text_node_properties=[\"name\", \"overview\"],  # đảm bảo các node có trường name\n",
    "    embedding_node_property=\"embedding\"\n",
    ")\n"
   ]
  },
  {
   "cell_type": "code",
   "execution_count": null,
   "id": "e9b42912",
   "metadata": {},
   "outputs": [],
   "source": [
    "from langchain.chains import RetrievalQA\n",
    "\n",
    "qa_chain = RetrievalQA.from_chain_type(\n",
    "    llm=llm,  # ví dụ: Ollama(model=\"phi\")\n",
    "    retriever=vector_index.as_retriever(search_kwargs={\"k\": 5})\n",
    ")\n"
   ]
  },
  {
   "cell_type": "code",
   "execution_count": null,
   "id": "3ed31020",
   "metadata": {},
   "outputs": [],
   "source": [
    "query = \"Nguyên nhân của AIDS là gì?\"\n",
    "response = qa_chain.run(query)\n",
    "print(\"🤖 Trả lời:\\n\", response)\n"
   ]
  },
  {
   "cell_type": "code",
   "execution_count": null,
   "id": "e40e18c7",
   "metadata": {},
   "outputs": [],
   "source": [
    "%pip install gradio"
   ]
  },
  {
   "cell_type": "code",
   "execution_count": null,
   "id": "ce089f12",
   "metadata": {},
   "outputs": [],
   "source": [
    "import gradio as gr\n",
    "\n",
    "def ask_graph_rag(question):\n",
    "    return qa_chain.run(question)\n",
    "\n",
    "gr.Interface(\n",
    "    fn=ask_graph_rag,\n",
    "    inputs=\"text\",\n",
    "    outputs=\"text\",\n",
    "    title=\"GraphRAG Medical Chatbot 🧠\",\n",
    "    description=\"Truy vấn tri thức từ đồ thị y tế \",\n",
    ").launch(share=True)\n"
   ]
  }
 ],
 "metadata": {
  "kernelspec": {
   "display_name": ".venv",
   "language": "python",
   "name": "python3"
  },
  "language_info": {
   "codemirror_mode": {
    "name": "ipython",
    "version": 3
   },
   "file_extension": ".py",
   "mimetype": "text/x-python",
   "name": "python",
   "nbconvert_exporter": "python",
   "pygments_lexer": "ipython3",
   "version": "3.9.12"
  }
 },
 "nbformat": 4,
 "nbformat_minor": 5
}
